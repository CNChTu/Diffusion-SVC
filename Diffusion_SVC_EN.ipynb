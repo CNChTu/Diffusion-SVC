{
  "cells": [
    {
      "attachments": {},
      "cell_type": "markdown",
      "metadata": {
        "id": "p9X1d8KrVXZs"
      },
      "source": [
        "# **Diffusion-SVC**\n",
        "## Last Updated: Jun 26, 2023"
      ]
    },
    {
      "attachments": {},
      "cell_type": "markdown",
      "metadata": {
        "id": "_FfKWIrJmXk1"
      },
      "source": [
        "# 1.Install the project"
      ]
    },
    {
      "cell_type": "code",
      "execution_count": null,
      "metadata": {
        "cellView": "form",
        "id": "jiZ5T8_dWjwO"
      },
      "outputs": [],
      "source": [
        "#@title Check the graphics card\n",
        "!nvidia-smi"
      ]
    },
    {
      "cell_type": "code",
      "execution_count": null,
      "metadata": {
        "cellView": "form",
        "id": "4VYe9BpYemcp"
      },
      "outputs": [],
      "source": [
        "#@title Install dependencies\n",
        "!apt update\n",
        "!apt install python3.10\n",
        "!pip3 install --upgrade pip\n",
        "%cd /content\n",
        "!git clone https://github.com/CNChTu/Diffusion-SVC.git\n",
        "%cd Diffusion-SVC\n",
        "!pip3 install torch torchvision torchaudio --index-url https://download.pytorch.org/whl/cu118\n",
        "!pip3 install -r requirements.txt\n",
        "!pip3 install tensorboard"
      ]
    },
    {
      "cell_type": "code",
      "execution_count": null,
      "metadata": {
        "cellView": "form",
        "id": "pFoTu6Jdh6VB"
      },
      "outputs": [],
      "source": [
        "#@title Download encoder and decoder\n",
        "!mkdir /content/Diffusion-SVC/pretrain/contentvec\n",
        "!mkdir /content/Diffusion-SVC/exp/naive-test\n",
        "!wget -O /content/Diffusion-SVC/pretrain/contentvec/checkpoint_best_legacy_500.pt https://huggingface.co/OOPPEENN/encoder_model/resolve/main/hubert_base.pt\n",
        "!wget -O /content/Diffusion-SVC/pretrain/nsf_hifigan_20221211.zip https://github.com/openvpi/vocoders/releases/download/nsf-hifigan-v1/nsf_hifigan_20221211.zip\n",
        "!unzip -o -d /content/Diffusion-SVC/pretrain /content/Diffusion-SVC/pretrain/nsf_hifigan_20221211.zip\n",
        "!rm -rf /content/Diffusion-SVC/pretrain/nsf_hifigan_20221211.zip"
      ]
    },
    {
      "attachments": {},
      "cell_type": "markdown",
      "metadata": {
        "id": "K3F8fIZHf8Rn"
      },
      "source": [
        "# Choose one of the following three options"
      ]
    },
    {
      "cell_type": "code",
      "execution_count": null,
      "metadata": {
        "cellView": "form",
        "id": "BLLo41eqf39a"
      },
      "outputs": [],
      "source": [
        "#@title Download the pretrained model, shallow diffusion, maximum diffusion depth of 100, network size 512x30 (recommended).\n",
        "!wget -O /content/Diffusion-SVC/exp/diffusion-test/model_0.pt https://huggingface.co/OOPPEENN/pretrained_model/resolve/main/contentvec768l12_shallow_k100_512x30_model_0.pt\n",
        "!wget -O /content/Diffusion-SVC/exp/naive-test/model_0.pt https://huggingface.co/OOPPEENN/pretrained_model/resolve/main/contentvec768l12_naive_model_0.pt"
      ]
    },
    {
      "cell_type": "code",
      "execution_count": null,
      "metadata": {
        "cellView": "form",
        "id": "bHnxxeVsf39a"
      },
      "outputs": [],
      "source": [
        "#@title Download the pretrained model, shallow diffusion, maximum diffusion depth of 200, network size 512x20 (recommended).\n",
        "!wget -O /content/Diffusion-SVC/exp/diffusion-test/model_0.pt https://huggingface.co/OOPPEENN/pretrained_model/resolve/main/contentvec768l12_shallow_k200_512x20_model_0.pt\n",
        "!wget -O /content/Diffusion-SVC/exp/naive-test/model_0.pt https://huggingface.co/OOPPEENN/pretrained_model/resolve/main/contentvec768l12_naive_model_0.pt"
      ]
    },
    {
      "cell_type": "code",
      "execution_count": null,
      "metadata": {
        "cellView": "form",
        "id": "ledBF3_Af39a"
      },
      "outputs": [],
      "source": [
        "#@title Download the pretrained model, full diffusion, network size 512x20\n",
        "!wget -O /content/Diffusion-SVC/exp/diffusion-test/model_0.pt https://huggingface.co/OOPPEENN/pretrained_model/resolve/main/contentvec768l12_full_512x20_model_0.pt\n",
        "!wget -O /content/Diffusion-SVC/exp/naive-test/model_0.pt https://huggingface.co/OOPPEENN/pretrained_model/resolve/main/contentvec768l12_naive_model_0.pt"
      ]
    },
    {
      "attachments": {},
      "cell_type": "markdown",
      "metadata": {
        "id": "jQsX4Cmfmn1V"
      },
      "source": [
        "# 2.Upload the dataset"
      ]
    },
    {
      "attachments": {},
      "cell_type": "markdown",
      "metadata": {
        "id": "T728uWkcncWr"
      },
      "source": [
        "1. Resample all .wav audio files to 44.1kHz using tools like Adobe Audition™ or similar software locally.\n",
        "\n",
        "2. Slice the dataset locally using [Slicer](https://github.com/flutydeer/audio-slicer). Ensure that the maximum duration of each audio segment does not exceed 15 seconds. It is strongly recommended to discard audio segments that are less than 2 seconds long.\n",
        "\n",
        "3. Place the sliced training dataset (in .wav format) locally in the directory `data/train/audio`.\n",
        "\n",
        "4. Randomly select and copy 6 audio segments from the training dataset locally to the directory `data/train/val` for use as the validation set.\n",
        "\n",
        "**Speaker IDs must start from 1 and should not start from 0. If there is only one speaker, the speaker ID must be 1.**\n",
        "\n",
        "\n",
        "The directory structure of the dataset is as follows:\n",
        "\n",
        "![data.png](data:image/png;base64,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)\n",
        "```\n",
        "data.zip\n",
        "|\n",
        "data\n",
        "|\n",
        "├─ train\n",
        "│    ├─ audio\n",
        "│    │    ├─ 1\n",
        "│    │    │   ├─ aaa.wav\n",
        "│    │    │   ├─ bbb.wav\n",
        "│    │    │   └─ ....wav\n",
        "│    │    ├─ 2\n",
        "│    │    │   ├─ ccc.wav\n",
        "│    │    │   ├─ ddd.wav\n",
        "│    │    │   └─ ....wav\n",
        "│    │    └─ ...\n",
        "|\n",
        "├─ val\n",
        "|    ├─ audio\n",
        "│    │    ├─ 1\n",
        "│    │    │   ├─ eee.wav\n",
        "│    │    │   ├─ fff.wav\n",
        "│    │    │   └─ ....wav\n",
        "│    │    ├─ 2\n",
        "│    │    │   ├─ ggg.wav\n",
        "│    │    │   ├─ hhh.wav\n",
        "│    │    │   └─ ....wav\n",
        "│    │    └─ ...\n",
        "```\n",
        "3. Compress the locally constructed dataset into a zip file and upload it to the root directory of Google Drive.\n"
      ]
    },
    {
      "cell_type": "code",
      "execution_count": null,
      "metadata": {
        "cellView": "form",
        "id": "8HqoyQPUmpDP"
      },
      "outputs": [],
      "source": [
        "#@title Upload dataset from Google Drive\n",
        "from google.colab import drive\n",
        "drive.mount('/content/drive')\n",
        "#@markdown Dataset location\n",
        "DATASET = \"/content/drive/MyDrive/data.zip\"  #@param {type:\"string\"}\n",
        "\n",
        "!unzip -d /content/Diffusion-SVC -B {DATASET}"
      ]
    },
    {
      "attachments": {},
      "cell_type": "markdown",
      "metadata": {
        "id": "B2yiT8arhLtZ"
      },
      "source": [
        "# 3. Modify configuration file & preprocess"
      ]
    },
    {
      "cell_type": "code",
      "execution_count": null,
      "metadata": {
        "cellView": "form",
        "id": "J7yrMZkBj_uU"
      },
      "outputs": [],
      "source": [
        "#@title Modify and save the configuration file for shallow diffusion (recommended, must be used in conjunction with the naive model, modify and run this cell to confirm)\n",
        "\n",
        "#@markdown f0 extractor (choose 'crepe' for noisy datasets, 'parselmouth' recommended otherwise, choose 'dio' for speed)\n",
        "f0_extractor = \"crepe\"  #@param ['dio', 'parselmouth', 'harvest', 'crepe']\n",
        "\n",
        "#@markdown Number of layers, consistent with the downloaded pretrained model\n",
        "n_layers = 30  #@param {type:\"integer\"}\n",
        "\n",
        "#@markdown Number of channels, consistent with the downloaded pretrained model\n",
        "n_chans = 512  #@param {type:\"integer\"}\n",
        "\n",
        "#@markdown  Maximum diffusion depth, consistent with the downloaded pretrained model (not to exceed 999)\n",
        "k_step_max = 200  #@param {type:\"integer\"}\n",
        "\n",
        "#@markdown Number of threads used for loading the dataset (usually 4 is sufficient)\n",
        "num_workers = 4  #@param {type:\"integer\"}\n",
        "\n",
        "#@markdown Training precision, fp16 recommended for T4 GPUs, if training fails (loss=1), you can try modifying the learning rate\n",
        "amp_dtype = \"fp16\"  #@param ['fp32', 'bf16', 'fp16']\n",
        "\n",
        "#@markdown Batch size, keep the default value\n",
        "batch_size = 48  #@param {type:\"integer\"}\n",
        "\n",
        "#@markdown Learning rate, keep the default value\n",
        "lr = 0.0001  #@param {type:\"number\"}\n",
        "\n",
        "#@markdown Learning rate decay steps, every n steps, the learning rate is halved\n",
        "decay_step = 20000  #@param {type:\"integer\"}\n",
        "\n",
        "#@markdown Cache the dataset in memory or on the GPU (prefer GPU, then memory, or disable caching if insufficient)\n",
        "cache_device = \"cuda\" #@param ['cpu', 'cuda']\n",
        "\n",
        "#@markdown Cache the entire dataset in memory or on the GPU (disable if GPU or memory usage is excessive)\n",
        "cache_all_data = True #@param {type:\"boolean\"}\n",
        "\n",
        "#@markdown Training log interval (in steps), avoid setting it too small, beware of large log sizes\n",
        "interval_log = 100  #@param {type:\"integer\"}\n",
        "\n",
        "#@markdown Validation interval (in steps), avoid setting it too small, as it significantly slows down training speed\n",
        "interval_val = 5000  #@param {type:\"integer\"}\n",
        "\n",
        "#@markdown Model saving interval (in steps), avoid setting it too small, beware of insufficient disk space\n",
        "interval_force_save = 5000  #@param {type:\"integer\"}\n",
        "\n",
        "import os\n",
        "import yaml\n",
        "\n",
        "folder_path = \"/content/Diffusion-SVC/data/train/audio\"\n",
        "folders = [name for name in os.listdir(folder_path) if os.path.isdir(os.path.join(folder_path, name))]\n",
        "\n",
        "with open(\"/content/Diffusion-SVC/configs/config_shallow.yaml\", \"r\") as diff:\n",
        "    existing_config = yaml.safe_load(diff)\n",
        "existing_config[\"data\"][\"f0_extractor\"] = f0_extractor\n",
        "existing_config[\"model\"][\"n_layers\"] = n_layers\n",
        "existing_config[\"model\"][\"n_chans\"] = n_chans\n",
        "existing_config[\"model\"][\"k_step_max\"] = k_step_max\n",
        "existing_config[\"model\"][\"n_spk\"] = len(folders)\n",
        "existing_config[\"train\"][\"num_workers\"] = num_workers\n",
        "existing_config[\"train\"][\"amp_dtype\"] = amp_dtype\n",
        "existing_config[\"train\"][\"batch_size\"] = batch_size\n",
        "existing_config[\"train\"][\"lr\"] = lr\n",
        "existing_config[\"train\"][\"decay_step\"] = decay_step\n",
        "existing_config[\"train\"][\"cache_device\"] = cache_device\n",
        "existing_config[\"train\"][\"cache_all_data\"] = cache_all_data\n",
        "existing_config[\"train\"][\"interval_log\"] = interval_log\n",
        "existing_config[\"train\"][\"interval_val\"] = interval_val\n",
        "existing_config[\"train\"][\"interval_force_save\"] = interval_force_save\n",
        "with open(\"/content/Diffusion-SVC/configs/config_shallow.yaml\", \"w\") as diff:\n",
        "    yaml.dump(existing_config, diff)"
      ]
    },
    {
      "cell_type": "code",
      "execution_count": null,
      "metadata": {
        "cellView": "form",
        "id": "2pTwLztBXWqZ"
      },
      "outputs": [],
      "source": [
        "#@title Modify and save the configuration file for the naive model\n",
        "\n",
        "#@markdown f0 extractor (choose 'crepe' for noisy datasets, 'parselmouth' recommended otherwise, choose 'dio' for speed)\n",
        "f0_extractor = \"crepe\"  #@param ['dio', 'parselmouth', 'harvest', 'crepe']\n",
        "\n",
        "#@markdown Number of threads used for loading the dataset (usually 4 is sufficient)\n",
        "num_workers = 4  #@param {type:\"integer\"}\n",
        "\n",
        "#@markdown Batch size, keep the default value\n",
        "batch_size = 48  #@param {type:\"integer\"}\n",
        "\n",
        "#@markdown Learning rate, keep the default value\n",
        "lr = 0.0005  #@param {type:\"number\"}\n",
        "\n",
        "#@markdown Learning rate decay steps, every n steps, the learning rate is halved\n",
        "decay_step = 10000  #@param {type:\"integer\"}\n",
        "\n",
        "#@markdown Cache the dataset in memory or on the GPU (prefer GPU, then memory, or disable caching if insufficient)\n",
        "cache_device = \"cuda\" #@param ['cpu', 'cuda']\n",
        "\n",
        "#@markdown Cache the entire dataset in memory or on the GPU (disable if GPU or memory usage is excessive)\n",
        "cache_all_data = True #@param {type:\"boolean\"}\n",
        "\n",
        "#@markdown Training log interval (in steps), avoid setting it too small, beware of large log sizes\n",
        "interval_log = 100  #@param {type:\"integer\"}\n",
        "\n",
        "#@markdown Validation interval (in steps), avoid setting it too small, as it significantly slows down training speed\n",
        "interval_val = 5000  #@param {type:\"integer\"}\n",
        "\n",
        "#@markdown Model saving interval (in steps), avoid setting it too small, beware of insufficient disk space\n",
        "interval_force_save = 5000  #@param {type:\"integer\"}\n",
        "\n",
        "import os\n",
        "import yaml\n",
        "\n",
        "folder_path = \"/content/Diffusion-SVC/data/train/audio\"\n",
        "folders = [name for name in os.listdir(folder_path) if os.path.isdir(os.path.join(folder_path, name))]\n",
        "\n",
        "with open(\"/content/Diffusion-SVC/configs/config_naive.yaml\", \"r\") as diff:\n",
        "    existing_config = yaml.safe_load(diff)\n",
        "existing_config[\"data\"][\"f0_extractor\"] = f0_extractor\n",
        "existing_config[\"model\"][\"n_spk\"] = len(folders)\n",
        "existing_config[\"train\"][\"num_workers\"] = num_workers\n",
        "existing_config[\"train\"][\"batch_size\"] = batch_size\n",
        "existing_config[\"train\"][\"lr\"] = lr\n",
        "existing_config[\"train\"][\"decay_step\"] = decay_step\n",
        "existing_config[\"train\"][\"cache_device\"] = cache_device\n",
        "existing_config[\"train\"][\"cache_all_data\"] = cache_all_data\n",
        "existing_config[\"train\"][\"interval_log\"] = interval_log\n",
        "existing_config[\"train\"][\"interval_val\"] = interval_val\n",
        "existing_config[\"train\"][\"interval_force_save\"] = interval_force_save\n",
        "with open(\"/content/Diffusion-SVC/configs/config_naive.yaml\", \"w\") as diff:\n",
        "    yaml.dump(existing_config, diff)"
      ]
    },
    {
      "cell_type": "code",
      "execution_count": null,
      "metadata": {
        "cellView": "form",
        "id": "4p__fjzTvDab"
      },
      "outputs": [],
      "source": [
        "#@title Modify and save the configuration file for full diffusion (modify and run this cell to confirm)\n",
        "\n",
        "#@markdown f0 extractor (choose 'crepe' for noisy datasets, 'parselmouth' recommended otherwise, choose 'dio' for speed)\n",
        "f0_extractor = \"crepe\"  #@param ['dio', 'parselmouth', 'harvest', 'crepe']\n",
        "\n",
        "#@markdown Number of layers, consistent with the downloaded pretrained model\n",
        "n_layers = 20  #@param {type:\"integer\"}\n",
        "\n",
        "#@markdown Number of channels, consistent with the downloaded pretrained model\n",
        "n_chans = 512  #@param {type:\"integer\"}\n",
        "\n",
        "#@markdown Number of threads used for loading the dataset (usually 4 is sufficient)\n",
        "num_workers = 4  #@param {type:\"integer\"}\n",
        "\n",
        "#@markdown Training precision, fp16 recommended for T4 GPUs, if training fails (loss=1), you can try modifying the learning rate\n",
        "amp_dtype = \"fp16\"  #@param ['fp32', 'bf16', 'fp16']\n",
        "\n",
        "#@markdown Batch size, keep the default value\n",
        "batch_size = 48  #@param {type:\"integer\"}\n",
        "\n",
        "#@markdown Learning rate, keep the default value\n",
        "lr = 0.0002  #@param {type:\"number\"}\n",
        "\n",
        "#@markdown Learning rate decay steps, every n steps, the learning rate is halved\n",
        "decay_step = 100000  #@param {type:\"integer\"}\n",
        "\n",
        "#@markdown Cache the dataset in memory or on the GPU (prefer GPU, then memory, or disable caching if insufficient)\n",
        "cache_device = \"cuda\" #@param ['cpu', 'cuda']\n",
        "\n",
        "#@markdown Cache the entire dataset in memory or on the GPU (disable if GPU or memory usage is excessive)\n",
        "cache_all_data = True #@param {type:\"boolean\"}\n",
        "\n",
        "#@markdown Training log interval (in steps), avoid setting it too small, beware of large log sizes\n",
        "interval_log = 100  #@param {type:\"integer\"}\n",
        "\n",
        "#@markdown Validation interval (in steps), avoid setting it too small, as it significantly slows down training speed\n",
        "interval_val = 5000  #@param {type:\"integer\"}\n",
        "\n",
        "#@markdown Model saving interval (in steps), avoid setting it too small, beware of insufficient disk space\n",
        "interval_force_save = 5000  #@param {type:\"integer\"}\n",
        "\n",
        "import os\n",
        "import yaml\n",
        "\n",
        "folder_path = \"/content/Diffusion-SVC/data/train/audio\"\n",
        "folders = [name for name in os.listdir(folder_path) if os.path.isdir(os.path.join(folder_path, name))]\n",
        "\n",
        "with open(\"/content/Diffusion-SVC/configs/config.yaml\", \"r\") as diff:\n",
        "    existing_config = yaml.safe_load(diff)\n",
        "existing_config[\"data\"][\"f0_extractor\"] = f0_extractor\n",
        "existing_config[\"model\"][\"n_layers\"] = n_layers\n",
        "existing_config[\"model\"][\"n_chans\"] = n_chans\n",
        "existing_config[\"model\"][\"n_spk\"] = len(folders)\n",
        "existing_config[\"train\"][\"num_workers\"] = num_workers\n",
        "existing_config[\"train\"][\"amp_dtype\"] = amp_dtype\n",
        "existing_config[\"train\"][\"batch_size\"] = batch_size\n",
        "existing_config[\"train\"][\"lr\"] = lr\n",
        "existing_config[\"train\"][\"decay_step\"] = decay_step\n",
        "existing_config[\"train\"][\"cache_device\"] = cache_device\n",
        "existing_config[\"train\"][\"cache_all_data\"] = cache_all_data\n",
        "existing_config[\"train\"][\"interval_log\"] = interval_log\n",
        "existing_config[\"train\"][\"interval_val\"] = interval_val\n",
        "existing_config[\"train\"][\"interval_force_save\"] = interval_force_save\n",
        "with open(\"/content/Diffusion-SVC/configs/config.yaml\", \"w\") as diff:\n",
        "    yaml.dump(existing_config, diff)\n"
      ]
    },
    {
      "cell_type": "code",
      "execution_count": null,
      "metadata": {
        "cellView": "form",
        "id": "49WeZmMTXVGh"
      },
      "outputs": [],
      "source": [
        "#@title Preprocess the dataset using the configuration file for shallow diffusion\n",
        "!python preprocess.py -c /content/Diffusion-SVC/configs/config_shallow.yaml"
      ]
    },
    {
      "cell_type": "code",
      "execution_count": null,
      "metadata": {
        "cellView": "form",
        "id": "FiRGeSraf39d"
      },
      "outputs": [],
      "source": [
        "#@title Preprocess the dataset using the configuration file for full diffusion\n",
        "!python preprocess.py -c /content/Diffusion-SVC/configs/config.yaml"
      ]
    },
    {
      "attachments": {},
      "cell_type": "markdown",
      "metadata": {
        "id": "5okO8rxGUQy0"
      },
      "source": [
        "# 4. Start training"
      ]
    },
    {
      "cell_type": "code",
      "execution_count": null,
      "metadata": {
        "cellView": "form",
        "id": "2re3uWPAlIE-"
      },
      "outputs": [],
      "source": [
        "#@title Train the shallow diffusion model (recommended, can only be used in combination with the naive model, choose either the full diffusion model or the shallow diffusion model)\n",
        "%load_ext tensorboard\n",
        "%tensorboard --logdir /content/Diffusion-SVC/exp\n",
        "!python train.py -c /content/Diffusion-SVC/configs/config_shallow.yaml"
      ]
    },
    {
      "cell_type": "code",
      "execution_count": null,
      "metadata": {
        "cellView": "form",
        "id": "ngwB6lJOXufY"
      },
      "outputs": [],
      "source": [
        "#@title Train the Naive model (full diffusion model optional, shallow diffusion required)\n",
        "%load_ext tensorboard\n",
        "%tensorboard --logdir /content/Diffusion-SVC/exp\n",
        "!python train.py -c /content/Diffusion-SVC/configs/config_naive.yaml"
      ]
    },
    {
      "cell_type": "code",
      "execution_count": null,
      "metadata": {
        "cellView": "form",
        "id": "UAPZi0IyUU6t"
      },
      "outputs": [],
      "source": [
        "#@title Train the full diffusion model\n",
        "%load_ext tensorboard\n",
        "%tensorboard --logdir /content/Diffusion-SVC/exp\n",
        "!python train.py -c /content/Diffusion-SVC/configs/config.yaml"
      ]
    },
    {
      "attachments": {},
      "cell_type": "markdown",
      "metadata": {
        "id": "e9J3Wza9Y6k-"
      },
      "source": [
        "# 5. Process the model"
      ]
    },
    {
      "cell_type": "code",
      "execution_count": null,
      "metadata": {
        "cellView": "form",
        "id": "MykDEysMZAh7"
      },
      "outputs": [],
      "source": [
        "#@title Merge Diffusion and Naive Models\n",
        "\n",
        "#@markdown Select Diffusion model (copy and paste the complete file path from the file page)\n",
        "Diffusion_model = \"/content/Diffusion-SVC/exp/diffusion-test/model_xxxx.pt\"  #@param{type:\"string\"}\n",
        "\n",
        "#@markdown Select Naive model (copy and paste the complete file path from the file page)\n",
        "Naive_model = \"/content/Diffusion-SVC/exp/naive-test/model_xxxx.pt\"  #@param{type:\"string\"}\n",
        "\n",
        "#@markdown Output folder for the merged model\n",
        "output_folder = \"/content/drive/MyDrive/\"  #@param{type:\"string\"}\n",
        "\n",
        "#@markdown Name of the merged model\n",
        "name = \"combine\"  #@param{type:\"string\"}\n",
        "\n",
        "!python combo.py -model {Diffusion_model} -nmodel {Naive_model} -exp {output_folder} -n {name}"
      ]
    },
    {
      "attachments": {},
      "cell_type": "markdown",
      "metadata": {
        "id": "2UGV1eDsc8BN"
      },
      "source": [
        "# 6. Inference\n"
      ]
    },
    {
      "cell_type": "code",
      "execution_count": null,
      "metadata": {
        "cellView": "form",
        "id": "sZRPyx7TdAIO"
      },
      "outputs": [],
      "source": [
        "#@title Non-real-time Inference\n",
        "#@markdown Select the audio file for inference (place it in the root directory of Google Drive and modify the audio name)\n",
        "input_wav = \"/content/drive/MyDrive/input.wav\"  #@param{type:\"string\"}\n",
        "\n",
        "#@markdown Select the output directory for the inference result\n",
        "output_wav = \"/content/drive/MyDrive/output.wav\"  #@param{type:\"string\"}\n",
        "\n",
        "#@markdown Path to the Diffusion model or the combined model\n",
        "combine_model = \"/content/drive/MyDrive/combine.ptc\"  #@param{type:\"string\"}\n",
        "\n",
        "#@markdown Pitch shift\n",
        "keychange = 0  #@param {type:\"integer\"}\n",
        "\n",
        "#@markdown Speaker ID\n",
        "speaker_id = 1  #@param {type:\"integer\"}\n",
        "\n",
        "#@markdown Speedup factor\n",
        "speedup = 10  #@param {type:\"integer\"}\n",
        "\n",
        "#@markdown Sampling method\n",
        "method = \"dpm-solver\"  #@param ['pndm', 'ddim', 'unipc', 'dpm-solver']\n",
        "\n",
        "#@markdown Shallow diffusion steps (should not exceed k_step_max set in Step 2 for shallow diffusion models, and not exceed 1000 for complete diffusion models)\n",
        "kstep = 200  #@param {type:\"integer\"}\n",
        "\n",
        "!python main.py -i {input_wav} -model {combine_model} -o {output_wav} -k {keychange} -id {speaker_id} -speedup {speedup} -method {method} -kstep {kstep}"
      ]
    }
  ],
  "metadata": {
    "accelerator": "GPU",
    "colab": {
      "gpuType": "T4",
      "private_outputs": true,
      "provenance": []
    },
    "kernelspec": {
      "display_name": "Python 3",
      "name": "python3"
    },
    "language_info": {
      "name": "python"
    }
  },
  "nbformat": 4,
  "nbformat_minor": 0
}
